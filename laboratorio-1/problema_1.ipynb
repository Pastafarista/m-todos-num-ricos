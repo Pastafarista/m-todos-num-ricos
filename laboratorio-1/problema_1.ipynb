{
 "cells": [
  {
   "cell_type": "markdown",
   "id": "5a767b2a-0632-4a9f-8391-6ac7d09f43ad",
   "metadata": {},
   "source": [
    "# Problema 1 - Laboratorio 1 Cálculo Numérico\n",
    "## Resolución de la ecuación de segundo grado\n",
    "##### Antonio Cabrera Landín 3ºMAIS\n",
    "---"
   ]
  },
  {
   "cell_type": "markdown",
   "id": "522de789-5158-467c-aeff-43a4e7a6f40f",
   "metadata": {},
   "source": [
    "### La ecuación de segundo grado $ax^2 + bx + c = 0$ se resuelve de la forma ordinaria utilizando las fórmulas\n",
    "$$x_1 = \\frac{-b + \\sqrt{b^2 - 4ac}}{2a}, \\;\\; x_2 = \\frac{-b - \\sqrt{b^2 - 4ac}}{2a}$$"
   ]
  },
  {
   "cell_type": "markdown",
   "id": "e2af8d81-7bfa-45ad-810b-a55d952329f0",
   "metadata": {},
   "source": [
    "#### 1. Pruebe que si se define\n",
    "$$y_1 =  \\frac{2c}{-b - \\sqrt{b^2 - 4ac}}, \\;\\; y_2 = \\frac{2c}{-b + \\sqrt{b^2 - 4ac}}$$\n",
    "#### entonces $x_1 = y_1$ y $x_2 = y_2$"
   ]
  },
  {
   "cell_type": "markdown",
   "id": "646691ed-cad7-4c1a-a563-29eac2e80701",
   "metadata": {},
   "source": [
    "$$\\begin{split}\n",
    "    & x_1 = y_1 \\Longleftrightarrow \\frac{-b + \\sqrt{b^2 - 4ac}}{2a} = \\frac{2c}{-b - \\sqrt{b^2 - 4ac}} \\Longleftrightarrow \\frac{(-b + \\sqrt{b^2 - 4ac})(-b - \\sqrt{b^2 - 4ac})}{(2a)(2c)} = 1 \\Longleftrightarrow \\frac{(-b)^2 - (\\sqrt{b^2 - 4ac})^2}{4ac} = 1 \\Longleftrightarrow \\frac{b^2 - |b^2 - 4ac|}{4ac} = 1\\\\\n",
    "    & \\text{si } b^2 > 4ac \\implies \\frac{(-b)^2 - (b^2 - 4ac)}{4ac} = 1 \\Longleftrightarrow \\frac{(-b)^2 - b^2 + 4ac)}{4ac} = 1 \\Longleftrightarrow \\frac{4ac}{4ac} = 1\\\\\n",
    "    & x_2 = y_2 \\Longleftrightarrow \\frac{-b - \\sqrt{b^2 - 4ac}}{2a} = \\frac{2c}{-b + \\sqrt{b^2 - 4ac}} \\Longleftrightarrow \\frac{(-b)^2 - (\\sqrt{b^2 - 4ac})^2}{4ac} = 1 \\Longleftrightarrow \\frac{b^2 - |b^2 - 4ac|}{4ac} = 1\\\\\n",
    "    & \\text{si } b^2 > 4ac \\implies \\frac{(-b)^2 - (b^2 - 4ac)}{4ac} = 1 \\Longleftrightarrow \\frac{(-b)^2 - b^2 + 4ac)}{4ac} = 1\n",
    "\\end{split}$$\n",
    "\n",
    "Solución: para raices no complejas se cumplen las igualdades"
   ]
  },
  {
   "cell_type": "markdown",
   "id": "fa9d0fd0-a620-490d-8864-7eeb25314c3b",
   "metadata": {},
   "source": [
    "#### 2. Evalúe, utilizando Python, $x_1,x_2,y_1,y_2$ cuando $a=1,b=9^{12}$ y $c=-3$"
   ]
  },
  {
   "cell_type": "markdown",
   "id": "643a5ef3-f487-4a03-8bb7-96db30ec1ff0",
   "metadata": {},
   "source": [
    "Primero vamos a implementar las formulas de cada una de las variables, para ello necesitaremos la librería base de `math`"
   ]
  },
  {
   "cell_type": "code",
   "execution_count": 6,
   "id": "06ea0f35-1e10-4692-a158-acb15941dda4",
   "metadata": {},
   "outputs": [],
   "source": [
    "import math"
   ]
  },
  {
   "cell_type": "markdown",
   "id": "0c6d0a30-d45c-4cbd-a7ad-42a7bf355af1",
   "metadata": {},
   "source": [
    "Las $x$ las calculamos con la fórmula de Bashkara. Tenemos que comprobar además que la raiz no sea compleja y que el denominador no sea 0 "
   ]
  },
  {
   "cell_type": "code",
   "execution_count": 7,
   "id": "d368355e-4a1a-43e1-baa9-88f3a283a4a9",
   "metadata": {},
   "outputs": [],
   "source": [
    "def get_x1(a, b, c):\n",
    "\n",
    "    if b**2 - 4*a*c < 0:\n",
    "        raise ValueError('No se puede calcular raíces negativas')\n",
    "\n",
    "    if a == 0:\n",
    "        raise ValueError('No se puede dividir por 0')\n",
    "\n",
    "    return (-b + math.sqrt(b**2 - 4*a*c)) / (2*a)\n",
    "\n",
    "def get_x2(a, b, c):\n",
    "    \n",
    "        if b**2 - 4*a*c < 0:\n",
    "            raise ValueError('No se puede calcular raíces negativas')\n",
    "    \n",
    "        if a == 0:igualdades\n",
    "            raise ValueError('No se puede dividir por 0')\n",
    "    \n",
    "        return (-b - math.sqrt(b**2 - 4*a*c)) / (2*a)"
   ]
  },
  {
   "cell_type": "code",
   "execution_count": 24,
   "id": "a93ff50f-063c-4cc4-bf1d-87e938e9ecd6",
   "metadata": {},
   "outputs": [
    {
     "name": "stdout",
     "output_type": "stream",
     "text": [
      "(1)x² + (0)x + (-64) = 0 -> x_1:8.0, x_2:-8.0\n"
     ]
    }
   ],
   "source": [
    "a=1\n",
    "b=0\n",
    "c=-64\n",
    "print(f'({a})x² + ({b})x + ({c}) = 0 -> x_1:{get_x1(a, b, c)}, x_2:{get_x2(a, b, c)}')"
   ]
  },
  {
   "cell_type": "markdown",
   "id": "b63619e1-2c4d-42f5-ae7d-1c8b5a4832ee",
   "metadata": {},
   "source": [
    "Las $y$ las calculamos con la fórmula dada, como Python puede llegar a aproximar el denominador a $0$, en esos casos utilizaremos que $x_1 = y_1$ y $x_2 = y_2$"
   ]
  },
  {
   "cell_type": "code",
   "execution_count": 12,
   "id": "153bd4a5-a378-4434-9f73-3246251f302d",
   "metadata": {},
   "outputs": [],
   "source": [
    "def get_y1(a, b, c):\n",
    "    \n",
    "        if b**2 - 4*a*c < 0:\n",
    "            raise ValueError('No se puede calcular raíces negativas')\n",
    "        try: \n",
    "            result = (2*c) / (-b - math.sqrt(b**2 - 4*a*c))\n",
    "        except ZeroDivisionError:\n",
    "            print('y1: usando la fórmula de x1')\n",
    "            result = get_x1(a, b, c)\n",
    "\n",
    "        return result\n",
    "\n",
    "def get_y2(a, b, c):\n",
    "\n",
    "    if b**2 - 4*a*c < 0:\n",
    "        raise ValueError('No se puede calcular raíces negativas')\n",
    "\n",
    "    try:\n",
    "        result = (2*c) / (-b + math.sqrt(b**2 - 4*a*c))\n",
    "    except ZeroDivisionError:\n",
    "        print('y2: usando la fórmula de x2')\n",
    "        result = get_x2(a, b, c)\n",
    "\n",
    "    return result"
   ]
  },
  {
   "cell_type": "code",
   "execution_count": 23,
   "id": "49250bd9-96c1-47f9-8ae9-651ae4cb730d",
   "metadata": {},
   "outputs": [
    {
     "name": "stdout",
     "output_type": "stream",
     "text": [
      "(1)x² + (0)x + (-64) = 0 -> y_1:8.0, y_2:-8.0\n"
     ]
    }
   ],
   "source": [
    "a=1\n",
    "b=0\n",
    "c=-64\n",
    "print(f'({a})x² + ({b})x + ({c}) = 0 -> y_1:{get_y1(a, b, c)}, y_2:{get_y2(a, b, c)}')"
   ]
  },
  {
   "cell_type": "markdown",
   "id": "f4920cb0-0990-43c8-b8f0-afb6ce092495",
   "metadata": {},
   "source": [
    "Podemos comprobar que efectivamente $x_1 = y_1$ y $x_2 = y_2$"
   ]
  },
  {
   "cell_type": "code",
   "execution_count": 17,
   "id": "b1e31023-009b-4c15-8460-71a30d6e4be4",
   "metadata": {},
   "outputs": [
    {
     "name": "stdout",
     "output_type": "stream",
     "text": [
      "Es x_1 = y_1: True\n",
      "Es x_2 = y_2: True\n"
     ]
    }
   ],
   "source": [
    "a=1\n",
    "b=0\n",
    "c=-64\n",
    "print(f'Es x_1 = y_1: {get_x1(a, b, c) == get_y1(a,b,c)}')\n",
    "print(f'Es x_2 = y_2: {get_x2(a, b, c) == get_y2(a, b, c)}')"
   ]
  },
  {
   "cell_type": "markdown",
   "id": "65fa46cc-c97c-46c2-b54e-1d52bf659da5",
   "metadata": {},
   "source": [
    "Ahora ya podemos calcular $x_1,x_2,y_1,y_2$ para $a=1,b=9^{12}$ y $c=-3$. Aunque a primera vista parece que $x_1 \\neq y_1$, esto ocurre por el redondeo decimal de Python"
   ]
  },
  {
   "cell_type": "code",
   "execution_count": 26,
   "id": "43730b40-b636-4938-90aa-9b38c54e3476",
   "metadata": {},
   "outputs": [
    {
     "name": "stdout",
     "output_type": "stream",
     "text": [
      "(1)x² + (282429536481)x + (-3) = 0 -> x_1:0.0, x_2:-282429536481.0\n",
      "y2: usando la fórmula de x2\n",
      "(1)x² + (282429536481)x + (-3) = 0 -> y_1:1.062211848441645e-11, y_2:-282429536481.0\n"
     ]
    }
   ],
   "source": [
    "a=1\n",
    "b=9**12\n",
    "c=-3\n",
    "print(f'({a})x² + ({b})x + ({c}) = 0 -> x_1:{get_x1(a, b, c)}, x_2:{get_x2(a, b, c)}')\n",
    "print(f'({a})x² + ({b})x + ({c}) = 0 -> y_1:{get_y1(a, b, c)}, y_2:{get_y2(a, b, c)}')"
   ]
  },
  {
   "cell_type": "markdown",
   "id": "86d96d87-2ff6-4f15-a87f-56dc271d3494",
   "metadata": {},
   "source": [
    "#### 3. Evalúe, utilizando Python, $x_1,x_2,y_1,y_2$ cuando $a=1,b=-9^{12}$ y $c=-3$"
   ]
  },
  {
   "cell_type": "code",
   "execution_count": 25,
   "id": "ccf36a4f-18d8-4c7c-becd-f1beb0bc65d5",
   "metadata": {},
   "outputs": [
    {
     "name": "stdout",
     "output_type": "stream",
     "text": [
      "(1)x² + (-282429536481)x + (-3) = 0 -> x_1:282429536481.0, x_2:0.0\n",
      "y1: usando la fórmula de x1\n",
      "(1)x² + (-282429536481)x + (-3) = 0 -> y_1:282429536481.0, y_2:-1.062211848441645e-11\n"
     ]
    }
   ],
   "source": [
    "a=1\n",
    "b=-9**12\n",
    "c=-3\n",
    "print(f'({a})x² + ({b})x + ({c}) = 0 -> x_1:{get_x1(a, b, c)}, x_2:{get_x2(a, b, c)}')\n",
    "print(f'({a})x² + ({b})x + ({c}) = 0 -> y_1:{get_y1(a, b, c)}, y_2:{get_y2(a, b, c)}')"
   ]
  },
  {
   "cell_type": "markdown",
   "id": "314ade01-0754-43a3-9233-63ce0ec65411",
   "metadata": {},
   "source": [
    "#### 4. Para cada uno de los dos apartados anteriores, indica cuáles son las soluciones de la ecuación de segundo grado y explique los resultados obtenidos en python"
   ]
  },
  {
   "cell_type": "markdown",
   "id": "d097f088-7642-49d1-9123-cfe3d9e2cd8d",
   "metadata": {},
   "source": [
    "- En el apartado 2, la solución a la ecuación $x^2 + 9^{12}x - 3 = 0$ es $x_1 = 1.06 \\cdot 10^{-11}$ y $x_2 = -282429536481$\n",
    "- En el apartado 3, la solución a la ecuación $x^2 - 9^{12}x - 3 = 0$ es $x_1 = 282429536481$ y $x_2 = -1.06 \\cdot 10^{-11}$\n",
    "\n",
    "Como ya hemos visto anteriormente, en python obtenemos ceros en las $x$, esto se debe a que python redondea los valores que son menores de $2.220446049250313 \\cdot 10^{-16}$"
   ]
  }
 ],
 "metadata": {
  "kernelspec": {
   "display_name": "matematicas",
   "language": "python",
   "name": "matematicas"
  },
  "language_info": {
   "codemirror_mode": {
    "name": "ipython",
    "version": 3
   },
   "file_extension": ".py",
   "mimetype": "text/x-python",
   "name": "python",
   "nbconvert_exporter": "python",
   "pygments_lexer": "ipython3",
   "version": "3.11.5"
  }
 },
 "nbformat": 4,
 "nbformat_minor": 5
}

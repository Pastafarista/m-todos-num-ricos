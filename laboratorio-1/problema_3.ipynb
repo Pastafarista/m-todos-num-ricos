{
 "cells": [
  {
   "cell_type": "markdown",
   "id": "cd114347-302a-4925-941e-d6fbda723972",
   "metadata": {},
   "source": [
    "# Problema 3 - Laboratorio 1 Cálculo Numérico\n",
    "## Algoritmo de Horner II\n",
    "##### Antonio Cabrera Landín 3ºMAIS\n",
    "---"
   ]
  },
  {
   "cell_type": "markdown",
   "id": "d97c26d9-d34a-4cf5-b795-38471c7a17ce",
   "metadata": {},
   "source": [
    "### Utilice reiteradamente el algoritmo de Horner para escribir $x^3 + x^2 - x - 1$ en potencias de $x - 2$"
   ]
  },
  {
   "cell_type": "markdown",
   "id": "3a1d79dc-f740-40df-83a0-ae1fa313d12d",
   "metadata": {},
   "source": [
    "Primero vamos a implementar el algoritmo de Horner usando una función recursiva:"
   ]
  },
  {
   "cell_type": "code",
   "execution_count": 1,
   "id": "c1db3121-c42b-47a6-bdce-f9786391f19d",
   "metadata": {},
   "outputs": [],
   "source": [
    "def q(a, x, n):\n",
    "    if n==0:\n",
    "        return a[0]\n",
    "    else:\n",
    "        # Verbose\n",
    "        # print(f'{x}*q + {a[n]}')\n",
    "        return x*q(a, x, n-1) + a[n]"
   ]
  },
  {
   "cell_type": "markdown",
   "id": "3c802ab9-eec8-48b1-887d-812dad3fb3db",
   "metadata": {},
   "source": [
    "Si probamos con el polinomio $P(x)=x^3 + x^2 - x - 1$, $p(2)=9$"
   ]
  },
  {
   "cell_type": "code",
   "execution_count": 2,
   "id": "94ae33f2-eb2c-4169-81a4-cb7ac1b0462c",
   "metadata": {},
   "outputs": [
    {
     "name": "stdout",
     "output_type": "stream",
     "text": [
      "9\n"
     ]
    }
   ],
   "source": [
    "a = [1, 1, -1, -1]\n",
    "print(q(a, 2, len(a)-1))"
   ]
  },
  {
   "cell_type": "markdown",
   "id": "1627090a-f14e-4874-af6d-8c02ad6237f5",
   "metadata": {},
   "source": [
    "Ahora vamos a utilizar la formula de la división de polinomios del problema anterior"
   ]
  },
  {
   "cell_type": "code",
   "execution_count": 3,
   "id": "422695c4-e776-47c2-b2dc-b9d6563609ec",
   "metadata": {},
   "outputs": [],
   "source": [
    "def polinom_division(a, x0):\n",
    "\n",
    "    p = []\n",
    "    r = 0\n",
    "    \n",
    "    for i in range(len(a)-1):\n",
    "        p.append(q(a, x0, i))\n",
    "\n",
    "    r = q(a, x0, len(a)-1)\n",
    "\n",
    "    return p, r"
   ]
  },
  {
   "cell_type": "markdown",
   "id": "ef4ba28c-ff7a-4944-83e0-1e4d276d1029",
   "metadata": {},
   "source": [
    "Con este algoritmo ya podemos resolver nuestro problema inicial"
   ]
  },
  {
   "cell_type": "code",
   "execution_count": 4,
   "id": "4ea96c24-b5c0-4cf4-9a58-0aefa3922409",
   "metadata": {},
   "outputs": [],
   "source": [
    "a = [1, 1, -1, -1]\n",
    "remainders = []\n",
    "\n",
    "a, r = polinom_division(a, 2)\n",
    "remainders.append(r)\n",
    "\n",
    "while len(a) > 1:\n",
    "    a, r = polinom_division(a, 2)\n",
    "    remainders.append(r)"
   ]
  },
  {
   "cell_type": "markdown",
   "id": "7e9fe72c-036a-499a-bc2b-145ea40f04e1",
   "metadata": {},
   "source": [
    "Vamos a visualizar nuestro resultado final"
   ]
  },
  {
   "cell_type": "code",
   "execution_count": 5,
   "id": "0545c57a-c59c-40e9-8152-1587f94eaead",
   "metadata": {},
   "outputs": [
    {
     "name": "stdout",
     "output_type": "stream",
     "text": [
      "(((1)(x-2)+7)(x-2)+15)(x-2)+9"
     ]
    }
   ],
   "source": [
    "def print_polynom(a):\n",
    "    cont = len(a) - 1\n",
    "    \n",
    "    for i in a:\n",
    "        if i != 0:\n",
    "            if cont == 1:\n",
    "                if i == 1:\n",
    "                    print('x+', end='')\n",
    "                else:\n",
    "                    print(f'{i}x + ', end='')\n",
    "            elif cont == 0:\n",
    "                print(f'{i}', end='')\n",
    "            else:\n",
    "                if i == 1:\n",
    "                    print(f'x^{cont} + ', end='')\n",
    "                else:\n",
    "                    print(f'{i}x**{cont} + ', end='')\n",
    "            \n",
    "        cont -= 1\n",
    "\n",
    "for _ in range(len(remainders)):\n",
    "    print('(', end='')\n",
    "\n",
    "print_polynom(a)\n",
    "\n",
    "for remainder in reversed(remainders):\n",
    "    print(f')(x-2)+{remainder}', end='')\n"
   ]
  }
 ],
 "metadata": {
  "kernelspec": {
   "display_name": "matematicas",
   "language": "python",
   "name": "matematicas"
  },
  "language_info": {
   "codemirror_mode": {
    "name": "ipython",
    "version": 3
   },
   "file_extension": ".py",
   "mimetype": "text/x-python",
   "name": "python",
   "nbconvert_exporter": "python",
   "pygments_lexer": "ipython3",
   "version": "3.11.5"
  }
 },
 "nbformat": 4,
 "nbformat_minor": 5
}

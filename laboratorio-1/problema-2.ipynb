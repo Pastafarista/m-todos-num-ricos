{
 "cells": [
  {
   "cell_type": "markdown",
   "id": "8e4d2934-1307-4f95-aeee-9dd051925003",
   "metadata": {},
   "source": [
    "# Problema 2 - Laboratorio 1 Cálculo Numérico\n",
    "## Algoritmo de Horner II\n",
    "##### Antonio Cabrera Landín 3ºMAIS\n",
    "---"
   ]
  },
  {
   "cell_type": "markdown",
   "id": "f4423ec6-c173-49ea-8591-13f8651eae7d",
   "metadata": {},
   "source": [
    "### El algoritmo de Horner se define formalmente así:\n",
    "\n",
    "*Dados un natural no nulo $N$ y $a_0,\\cdots,a_N,x_0,$hacer:*\n",
    "$$\\begin{split}\n",
    "    & q_{N-1} \\coloneqq a_N\\\\\n",
    "    & q_{N-i-1} \\coloneqq q_{N-i}x_0 + a_{N-i}, \\;\\; i = 1,\\cdots, N\n",
    "\\end{split}$$"
   ]
  },
  {
   "cell_type": "markdown",
   "id": "231e09ec-8c78-4ac4-ae2d-9bbcecc80718",
   "metadata": {},
   "source": [
    "#### 1. Demuestre, con el mayor rigor de que sea capaz, que $Q(x) = q_{N-1}x^{N-1} + \\cdots + q_0$ y $q_{-1}$ son respectivamente el cociente y resto de la división de $P$ entre $x - x_0$"
   ]
  },
  {
   "cell_type": "markdown",
   "id": "abb2f671-78a2-4519-a948-9bbf3a5086f2",
   "metadata": {},
   "source": [
    "Dado el polinomio $P(x) = a_0 + a_1x + a_2x^2 + \\cdots + a_nx_n$, podemos reescribirlo como $p(x) = a_0 + x(a_1 + x(a_2 + \\cdots + x(a_{n_1} + xa_n)))$\n",
    "$$\\begin{split}\n",
    "    & q_{N-1} \\coloneqq a_n\\\\\n",
    "    & q_{N-2} \\coloneqq a_{n-1} + q_{N-1}x\\\\\n",
    "    & \\;\\;\\vdots \\notag \\\\\n",
    "    & q_0 \\coloneqq a_1 + q_1x\\\\\n",
    "    & q_{-1} \\coloneqq a_0 + q_0x\\\\\n",
    "\\end{split}$$"
   ]
  },
  {
   "cell_type": "markdown",
   "id": "953e375f-f407-46f0-8fca-c00f705ee815",
   "metadata": {},
   "source": [
    "#### 2. Demuestre como consecuencia, que $q_{-1} = P(x_0)$"
   ]
  },
  {
   "cell_type": "markdown",
   "id": "0cc5f57d-d293-48c5-8e4f-e1c503d3ba13",
   "metadata": {},
   "source": [
    "Si sustituimos $q_i$ en la expresión obtenemos:\n",
    "\n",
    "$$\\begin{split}\n",
    "    & p(x) = a_0 + x(a_1 + x(a_2 + \\cdots + x(a_{n_1} + q_{N-1}x)))\\\\\n",
    "    & = a_0 + x(a_1 + \\cdots + q_{N-2}x)\n",
    "    & \\;\\;\\vdots \\notag \\\\\n",
    "    & = a_0 + q_{0}x\\\\\n",
    "    & = q_{-1}\n",
    "\\end{split}$$"
   ]
  }
 ],
 "metadata": {
  "kernelspec": {
   "display_name": "matematicas",
   "language": "python",
   "name": "matematicas"
  },
  "language_info": {
   "codemirror_mode": {
    "name": "ipython",
    "version": 3
   },
   "file_extension": ".py",
   "mimetype": "text/x-python",
   "name": "python",
   "nbconvert_exporter": "python",
   "pygments_lexer": "ipython3",
   "version": "3.11.5"
  }
 },
 "nbformat": 4,
 "nbformat_minor": 5
}

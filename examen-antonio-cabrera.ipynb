{
 "cells": [
  {
   "cell_type": "markdown",
   "id": "bbe4edcc-5c53-449f-a4a7-2648dae1f244",
   "metadata": {},
   "source": [
    "## Parcial cálculo numérico - Cálculo Numérico\n",
    "##### Antonio Cabrera Landín 3ºMAIS\n",
    "---"
   ]
  },
  {
   "cell_type": "markdown",
   "id": "bd3f2897-fe91-4468-8401-0fa928df1180",
   "metadata": {},
   "source": [
    "1. Escribir una función llamada `interp` que, dado un punto $x$, una lista con los nodos de interpolación `xp`y una lista con los valores correspondientes de la función en cada nodo `fp`, evalúe el polinomio de Lagrange en el punto `x`."
   ]
  },
  {
   "cell_type": "markdown",
   "id": "880eb39a-38e6-4193-8bb2-f31166b2956d",
   "metadata": {},
   "source": [
    "Crearemos una función para mostrar el polinomio"
   ]
  },
  {
   "cell_type": "code",
   "execution_count": 43,
   "id": "3e4bad75-54e6-4083-b967-5030fa2ee6a8",
   "metadata": {},
   "outputs": [],
   "source": [
    "def mostrar_polinomio(coeficientes, x: str):\n",
    "\n",
    "    n = len(coeficientes)\n",
    "    \n",
    "    print(\"P(x) = \", end=\"\")\n",
    "\n",
    "    for i in range(n):\n",
    "        if (n - i - 1) == 0:\n",
    "            print(coeficientes[i], end=i < n - 1 and \" + \" or \"\\n\")\n",
    "        elif (n - i - 1) == 1:\n",
    "            if coeficientes[i] == 1:\n",
    "                print(f\"{x}\", end=i < n - 1 and \" + \" or \"\\n\") \n",
    "            elif coeficientes[i] != 0:     \n",
    "                print(f\"{coeficientes[i]}{x}\", end=i < n - 1 and \" + \" or \"\\n\")\n",
    "        else:\n",
    "            if coeficientes[i] == 1:\n",
    "                print(f\"{x}^{n - i - 1}\", end=i < n - 1 and \" + \" or \"\\n\") \n",
    "            elif coeficientes[i] != 0:     \n",
    "                print(f\"{coeficientes[i]}{x}^{n - i - 1}\", end=i < n - 1 and \" + \" or \"\\n\")"
   ]
  },
  {
   "cell_type": "markdown",
   "id": "d9069d1b-d111-4bd3-b894-41fe7765a18c",
   "metadata": {},
   "source": [
    "Para calcular el polinomio interpolador de Lagranfe utilizaremos la forma de Newton:\n",
    "\n",
    "$$\n",
    "P(x) = f[x_0] + f[x_0, x_1](x - x_0) + \\ldots + f[x_0, \\ldots, x_N](x-x_0) \\dots (x - x_{N-1})\n",
    "$$\n",
    "\n",
    "Los terminos $f[x_0, \\ldots, x_N]$ son las diferencias divididas y cumplen:\n",
    "\n",
    "$$\n",
    "f[x_0, x_1, \\ldots, x_N] = \\frac{f[x_1, \\ldots, x_N] - f[x_0, \\ldots, x_{N-1}]}{x_N - x_0}\n",
    "$$\n",
    "\n",
    "Sabiendo esto podemos calcular las diferencias divididas del polinomio con la tabla:\n",
    "\n",
    "$$\n",
    "\\begin{array}{|c|c|c|c|c|}\n",
    "\t\\hline\n",
    "\tx_{0} & f[x_{0}]\\\\\n",
    "\t\\hline\n",
    "\tx_{1} & f[x_{1}] & f[x_{0}, x_{1}]\\\\\n",
    "\t\\hline\n",
    "\tx_{2} & f[x_{2}] & f[x_{1}, x_{2}] & f[x_{0}, x_{1}, x_{2}]\\\\\n",
    "\t\\hline\n",
    "    \\vdots & \\vdots & \\vdots & \\vdots & \\vdots\\\\\n",
    "    \\hline\n",
    "\tx_{N} & f[x_{N}] & f[x_{N-1}, x_{N}] & \\ldots & f[x_{0}, x_{1}, \\ldots, x_{N}]\\\\\n",
    "\t\\hline\n",
    "\\end{array}\n",
    "$$"
   ]
  },
  {
   "cell_type": "markdown",
   "id": "63955fe4-d159-4446-9684-baf35ff0ffb2",
   "metadata": {},
   "source": [
    "La función `tabla_lagrange` calcula las diferencias divididas del polinomio interpolador de Lagrange en forma de Newton, es decir la diagonal de la tabla:\n",
    "\n",
    "$$\n",
    "f[x_0], f[x_0, x_1], \\ldots, f[x_0, \\ldots, x_N]\n",
    "$$"
   ]
  },
  {
   "cell_type": "code",
   "execution_count": 41,
   "id": "2aae81e3-526c-46d9-898b-9c87bbb58db9",
   "metadata": {},
   "outputs": [],
   "source": [
    "'''\n",
    "Calcular las diferencias divididas de la forma de Newton mediante la tabla del polinomio de Lagrange\n",
    "\n",
    "Parámetros:\n",
    "    - fx: vector de valores de la función en los nodos de interpolación\n",
    "    - x: vector de nodos de interpolación\n",
    "\n",
    "Retorno:\n",
    "    - diferencias_divididas: vector con las diferencias divididas de la forma de Newton\n",
    "'''\n",
    "def tabla_lagrange(x, fx):\n",
    "\n",
    "    # Inicializar la tabla\n",
    "    tabla = np.zeros((len(x), len(x)))\n",
    "    \n",
    "    # Damos los valores iniciales de la tabla\n",
    "    for i in range(len(x)):\n",
    "        tabla[i, 0] = fx[i]\n",
    "\n",
    "    # Calcular la tabla\n",
    "    for j in range(1, len(x)):\n",
    "        for i in range(j, len(x)):\n",
    "            tabla[i, j] = (tabla[i, j - 1] - tabla[i - 1, j - 1]) / (x[i] - x[i - j])\n",
    "\n",
    "    # Extraer la diagonal principal de la tabla\n",
    "    diferencias_divididas = np.diag(tabla)\n",
    "\n",
    "    mostrar_polinomio(diferencias_divididas, x=\"x\")\n",
    "\n",
    "    return diferencias_divididas"
   ]
  },
  {
   "cell_type": "markdown",
   "id": "df78fa0f-b8e1-4916-9b08-7efa16cc27d9",
   "metadata": {},
   "source": [
    "Con esto ya podemos implementar la función `interp` que evaluará el polinomio interpolador en un punto `x`, para ello tenemos que implementar la fórmula:\n",
    "\n",
    "$$\n",
    "P(x) = f[x_0] + f[x_0, x_1](x - x_0) + \\ldots + f[x_0, \\ldots, x_N](x-x_0) \\dots (x - x_{N-1})\n",
    "$$\n",
    "\n",
    "Para ahorrar costo computacional usaremos una variable auxiliar `aux` en el que guardaremos el valor anterior a la multiplicación $(x-x_0) \\dots (x - x_{N-1})$, ya que si no tendríamos que calcular los terminos anteriores en cada iteración del bucle."
   ]
  },
  {
   "cell_type": "code",
   "execution_count": 36,
   "id": "330e7815-4346-423f-a229-2e763fd62497",
   "metadata": {},
   "outputs": [],
   "source": [
    "'''\n",
    "Evaluar el polinomio de Lagrange en el punto x mediante las diferencias divididas de la forma de Newton\n",
    "\n",
    "Parámetros:\n",
    "    - x: punto en el que se quiere evaluar el polinomio interpolador\n",
    "    - xp: vector de nodos de interpolación\n",
    "    - fx: vector de valores de la función en los nodos de interpolación\n",
    "\n",
    "Retorno:\n",
    "    - px: valor del polinomio interpolador en el punto x\n",
    "'''\n",
    "def interp(x, xp, fx):\n",
    "    diferencias_divididas = tabla_lagrange(xp, fx) \n",
    "    px = 0\n",
    "    aux = 1\n",
    "    xp = xp.sort()\n",
    "    \n",
    "    for j in range(len(xp)):\n",
    "        px += diferencias_divididas[j] * aux\n",
    "        aux *= (x - xp[j])\n",
    "\n",
    "    return px"
   ]
  }
 ],
 "metadata": {
  "kernelspec": {
   "display_name": "matematicas",
   "language": "python",
   "name": "matematicas"
  },
  "language_info": {
   "codemirror_mode": {
    "name": "ipython",
    "version": 3
   },
   "file_extension": ".py",
   "mimetype": "text/x-python",
   "name": "python",
   "nbconvert_exporter": "python",
   "pygments_lexer": "ipython3",
   "version": "3.11.5"
  }
 },
 "nbformat": 4,
 "nbformat_minor": 5
}

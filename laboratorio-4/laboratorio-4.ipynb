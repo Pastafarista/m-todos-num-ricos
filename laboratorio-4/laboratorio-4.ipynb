{
 "cells": [
  {
   "cell_type": "markdown",
   "id": "304119c3-ca81-42df-b125-ca7a727e02d1",
   "metadata": {},
   "source": [
    "## Laboratorio 4 - Cálculo Numérico\n",
    "##### Antonio Cabrera Landín 3ºMAIS\n",
    "---"
   ]
  },
  {
   "cell_type": "markdown",
   "id": "05361f11-d88f-4707-9d81-08c1f927eace",
   "metadata": {},
   "source": [
    "Primero vamos a importar las liberias que vamos a utilizar."
   ]
  },
  {
   "cell_type": "code",
   "execution_count": 2,
   "id": "ea09a308-459f-413d-acca-a1ec7f22d3dc",
   "metadata": {},
   "outputs": [],
   "source": [
    "import numpy as np\n",
    "import matplotlib.pyplot as plt"
   ]
  },
  {
   "cell_type": "markdown",
   "id": "b7d3ee39-09eb-4a1e-97b5-950663437b81",
   "metadata": {},
   "source": [
    "### Problema 1: Coeficientes indeterminados"
   ]
  },
  {
   "cell_type": "markdown",
   "id": "cd29a03a-1b84-4128-8f77-370e2e0e27d1",
   "metadata": {},
   "source": [
    "Escribir una función llamada `coeficientes_lagrange` que, dados los nodos de interpolación $x$ y los valores correspondientes de la función $f(x)$ en cada nodo, construya los coeficientes del polinomio de Lagrange utilizando el método de coeficientes indeterminados.\n",
    "\n",
    "La función debe tenre los siguientes argumentos:\n",
    "\n",
    "- `x`: Nodos de interpolación.\n",
    "- `fx`: Valores correspondientes de la función $f(x)$ en cada nodo.\n",
    "\n",
    "La función debe devolver:\n",
    "\n",
    "- Coeficientes del polinomio de Lagrange.\n",
    "\n",
    "Para implementar la función, se puede utilizar las siguientes funciones de numpy:\n",
    "- `np.vander`: Para construir la matriz de Vandermonde.\n",
    "- `np.linalg.solve`: Para resolver el sistema lineal de ecuaciones."
   ]
  },
  {
   "cell_type": "markdown",
   "id": "eadf2849-b64a-4377-9e93-e26d8569c2c9",
   "metadata": {},
   "source": [
    "Primero vamos a crear la función que nos piden"
   ]
  },
  {
   "cell_type": "code",
   "execution_count": 2,
   "id": "64ed429e-70c6-4170-b41c-31de2d241ed5",
   "metadata": {},
   "outputs": [],
   "source": [
    "def coeficientes_lagrange(x:list[int], fx:list[int]) -> list[int]:\n",
    "\n",
    "    matriz_vander = np.vander(x)\n",
    "\n",
    "    coeficientes = np.linalg.solve(matriz_vander, fx)\n",
    "    \n",
    "    return coeficientes"
   ]
  },
  {
   "cell_type": "markdown",
   "id": "7a8ea74c-f323-477e-ba62-c555a1c8e647",
   "metadata": {},
   "source": [
    "Vamos a probarla con la función $sen(x)$ en los puntos $\\{1,2,3,4,5\\}$, para ello primero computamos los coeficientes del polinomio interpolador"
   ]
  },
  {
   "cell_type": "code",
   "execution_count": 3,
   "id": "c3791011-6d7e-4a35-a4b3-89069c48bde9",
   "metadata": {},
   "outputs": [],
   "source": [
    "x = [1,2,3,4,5]\n",
    "f = lambda x: np.sin(x)\n",
    "fx = [f(x_i) for x_i in x]\n",
    "\n",
    "coeficientes = coeficientes_lagrange(x, fx)"
   ]
  },
  {
   "cell_type": "markdown",
   "id": "6ed50205-854b-4b1e-a91e-989eaf9a5aec",
   "metadata": {},
   "source": [
    "Para evaluar el polinomio vamos a utilizar el método de horner que ya vimos en clase"
   ]
  },
  {
   "cell_type": "code",
   "execution_count": 7,
   "id": "50d0d1c6-5bdc-4edf-96fc-3f9fb92714d6",
   "metadata": {},
   "outputs": [],
   "source": [
    "def horner(poly, x):\n",
    "    result = poly[0]\n",
    "\n",
    "    n = len(poly)\n",
    " \n",
    "    for i in range(1, n):\n",
    " \n",
    "        result = result*x + poly[i]\n",
    " \n",
    "    return result"
   ]
  },
  {
   "cell_type": "code",
   "execution_count": 5,
   "id": "53a77e90-f635-49fa-890e-5d3762a67f40",
   "metadata": {},
   "outputs": [
    {
     "name": "stdout",
     "output_type": "stream",
     "text": [
      "f(1.5707963267948966)=sen(1.5707963267948966)=1.0195785884688382\n"
     ]
    }
   ],
   "source": [
    "a = np.pi/2\n",
    "print(f\"f({a})=sen({a})={horner(coeficientes, len(coeficientes), a)}\")"
   ]
  },
  {
   "cell_type": "code",
   "execution_count": 6,
   "id": "5e944e89-8939-4f2b-8b7d-2a624a31aaa0",
   "metadata": {},
   "outputs": [
    {
     "data": {
      "image/png": "[encoded data removed]",
      "text/plain": [
       "<Figure size 640x480 with 1 Axes>"
      ]
     },
     "metadata": {},
     "output_type": "display_data"
    }
   ],
   "source": [
    "x_i = np.linspace(0, 9, 10)\n",
    "plt.plot(x_i, horner(coeficientes, len(coeficientes), x_i), 'r', label=\"polinomio interpolador\")\n",
    "plt.plot(x_i, f(x_i), 'b', label=\"función real\")\n",
    "plt.legend()\n",
    "plt.show()"
   ]
  },
  {
   "cell_type": "markdown",
   "id": "f23c2d4f-860d-4951-8c3e-836f6353df23",
   "metadata": {},
   "source": [
    "### Problema 2: Evaluar el polinomio de Lagrange"
   ]
  },
  {
   "cell_type": "markdown",
   "id": "0f28720b-5f4a-412c-b2b1-5ee1fd1eb60a",
   "metadata": {},
   "source": [
    "Escribir una función llamada `evaluar_lagrange` que, dados los puntos $z$, los nodos de interpolación $x$ y los valores correspondientes de la función $f(x)$ en cada nodo, evalúe el polinomio de Lagrange en los puntos $z$ utilizando el método de coeficientes indeterminados.\n",
    "\n",
    "La función debe tener los siguientes argumentos:\n",
    "\n",
    "- `z`: Puntos en los que se evaluará el polinomio.\n",
    "- `x`: Nodos de interpolación.\n",
    "- `fx`: Valores correspondientes de la función $f(x)$ en cada nodo.\n",
    "\n",
    "La función debe devolver:\n",
    "\n",
    "- Valores del polinomio de Lagrange en los puntos $z$.\n",
    "\n",
    "Para implementar la función, se debe utilizar la función `coeficientes_lagrange`del problema anterior para obtener los coeficientes del polinomio de Lagrange y, a continuación, evaluar el polinomio en los puntos $z$ de forma eficientes."
   ]
  },
  {
   "cell_type": "markdown",
   "id": "e058cf98-4fb7-4e68-ae25-eb21f720acb8",
   "metadata": {},
   "source": [
    "Como nos piden evaluar el polinomio en los puntos $z$ de forma eficiente, vamos a usar el **método de Horner**"
   ]
  },
  {
   "cell_type": "code",
   "execution_count": 7,
   "id": "8893e322-e279-43f0-b711-65d471c6ab43",
   "metadata": {},
   "outputs": [],
   "source": [
    "def evaluar_lagrange(z:list[int], x:list[int], fx:list[int]) -> list[int]:\n",
    "    coeficientes = coeficientes_lagrange(x, fx)\n",
    "    valores = [horner(coeficientes, len(coeficientes), z_i) for z_i in z]\n",
    "\n",
    "    return valores"
   ]
  },
  {
   "cell_type": "code",
   "execution_count": 8,
   "id": "19fbbc26-0f0c-4d1e-b3cb-f0ea1dac90ec",
   "metadata": {},
   "outputs": [
    {
     "name": "stdout",
     "output_type": "stream",
     "text": [
      "Lagrange: [0.909297426825682, 0.14112000805986658, -0.7568024953079265]\n",
      "Función real: [0.9092974268256817, 0.1411200080598672, -0.7568024953079282]\n"
     ]
    }
   ],
   "source": [
    "x = [1,2,3,4,5]\n",
    "f = lambda x: np.sin(x)\n",
    "fx = [f(x_i) for x_i in x]\n",
    "\n",
    "z = [2,3,4]\n",
    "\n",
    "print(f\"Lagrange: {evaluar_lagrange(z, x, fx)}\")\n",
    "print(f\"Función real: {[f(z_i) for z_i in z]}\")"
   ]
  },
  {
   "cell_type": "markdown",
   "id": "2dbcfea0-3d37-43b6-83df-d00dfff87673",
   "metadata": {},
   "source": [
    "### Problema 3: Forma de Lagrange"
   ]
  },
  {
   "cell_type": "markdown",
   "id": "48f9144f-80ac-458d-9eb9-2a1f5f5b951e",
   "metadata": {},
   "source": [
    "1 - Escribir una función llamada `base_lagrange` que, dados los puntos $z$ y los nodos de interpolación $x$, calcule los valores de los elementos de la base de Lagrange en los puntos $z$.\n",
    "\n",
    "La función debe tener los siguientes argumentos:\n",
    "\n",
    "- `z`: Puntos en los que se evaluarán los elementos de la base de Lagrange.\n",
    "- `x`: Nodos de interpolación\n",
    "\n",
    "La función debe devolver:\n",
    "\n",
    "- Base de lagrange evaluada en los puntos $z$."
   ]
  },
  {
   "cell_type": "markdown",
   "id": "976c4821-5098-47bf-aada-adf95e3067a9",
   "metadata": {},
   "source": [
    "Vamos a implementar la fórmula para calcular los elementos de la base de lagrange [[1]](http://www.webpages.ttu.edu/jengwer/notes/LagrangeBasis.pdf), y vamos a evaluar la base de lagrange en los puntos de $z$."
   ]
  },
  {
   "cell_type": "code",
   "execution_count": 26,
   "id": "3403ca2a-dcf6-476a-becf-9f48e4b587b3",
   "metadata": {},
   "outputs": [],
   "source": [
    "def base_lagrange(z:np.array, x:np.array) -> np.array:\n",
    "    x = np.array(x)\n",
    "    z = np.array(z)\n",
    "    \n",
    "    n = len(x)\n",
    "    result = np.ones((n, len(z)))\n",
    "\n",
    "    for j in range(n):\n",
    "        for i in range(n):  \n",
    "            if i != j:\n",
    "                result[:, j] *= (z - x[i])/(x[j]-x[i])\n",
    "    \n",
    "    return result"
   ]
  },
  {
   "cell_type": "code",
   "execution_count": 27,
   "id": "4ae347aa-ea79-46f4-933a-9db170a12cd2",
   "metadata": {},
   "outputs": [
    {
     "name": "stdout",
     "output_type": "stream",
     "text": [
      "[[ 1.  0. -0.  0. -0.]\n",
      " [-0.  1.  0. -0.  0.]\n",
      " [ 0. -0.  1.  0. -0.]\n",
      " [-0.  0. -0.  1.  0.]\n",
      " [ 0. -0.  0. -0.  1.]]\n"
     ]
    }
   ],
   "source": [
    "x = np.array([1,2,3,4,5])\n",
    "z = np.array([1,2,3,4,5])\n",
    "\n",
    "print(base_lagrange(z, x))"
   ]
  },
  {
   "cell_type": "markdown",
   "id": "ed4760b6-c29c-4633-9dc3-da9162319096",
   "metadata": {},
   "source": [
    "2 - Extender la función `evaluar_lagrange` del problema anterior para que acepte un argumento adicional `metodo`que especifique el método a utilizar para la evaluación: (`'indeterminados'` o `'lagrange'`). Por defecto el método debe ser `'indeterminados'`.\n",
    "\n",
    "Si el método especificado es `'lagrange'`, la función debe utilizar la función `base_lagrange` para calcular los valores de los elementos de la base de Lagrange en los puntos $z$ y, a continuación, utilizar dichos valores para evaluar el polinomio de Lagrange en los puntos $z$."
   ]
  },
  {
   "cell_type": "code",
   "execution_count": 28,
   "id": "2f1ff5c7-e005-40e3-b6a6-f6b23ed7ca9e",
   "metadata": {},
   "outputs": [],
   "source": [
    "def evaluar_lagrange(z:list[int], x:list[int], fx:list[int], metodo='indeterminado') -> list[int]:\n",
    "\n",
    "    if metodo == 'indeterminado':\n",
    "        coeficientes = coeficientes_lagrange(x, fx)\n",
    "        valores = [horner(coeficientes, len(coeficientes), z_i) for z_i in z]\n",
    "    elif metodo == 'lagrange':\n",
    "        base = base_lagrange(z, x)\n",
    "        print(base)\n",
    "    else:\n",
    "        raise ValueError('El método seleccionado no existe')\n",
    "\n",
    "    return valores"
   ]
  },
  {
   "cell_type": "markdown",
   "id": "f139c07e-a5f7-4351-b76a-287d4a2a9b8f",
   "metadata": {},
   "source": [
    "3 - Utilizar la función `evaluar_lagrange`, para evaluar el polinomio de Lagrange de la función $f (x) = sin (x)$\n",
    "en los puntos $z = 72$ utilizando los siguientes nodos (en grados)"
   ]
  },
  {
   "cell_type": "markdown",
   "id": "3774fa0c-9371-49b7-bef9-f391b470edd2",
   "metadata": {},
   "source": [
    "`x = [70, 75]`"
   ]
  },
  {
   "cell_type": "code",
   "execution_count": 35,
   "id": "ad117240-6773-41b4-b5b3-d64820e98cf1",
   "metadata": {},
   "outputs": [
    {
     "name": "stdout",
     "output_type": "stream",
     "text": [
      "sen(1.2566370614359172) = 0.5790208673967758\n"
     ]
    }
   ],
   "source": [
    "x_1 = [70, 75]\n",
    "fx_1 = [np.sin(np.deg2rad(x_i)) for x_i in x_1]\n",
    "z = np.deg2rad(72)\n",
    "\n",
    "fz_1 = evaluar_lagrange([z], x_1, fx_1)\n",
    "\n",
    "print(f'sen({z}) = {fz_1[-1]}')"
   ]
  },
  {
   "cell_type": "markdown",
   "id": "a2501655-a4d1-4e97-9f3e-2175d0deaffc",
   "metadata": {},
   "source": [
    "`x = [65, 70, 75]`"
   ]
  },
  {
   "cell_type": "code",
   "execution_count": 36,
   "id": "6966ed56-b094-4512-92fc-22c522e0f496",
   "metadata": {},
   "outputs": [
    {
     "name": "stdout",
     "output_type": "stream",
     "text": [
      "sen(1.2566370614359172) = -0.14606366321613512\n"
     ]
    }
   ],
   "source": [
    "x_2 = [65, 70, 75]\n",
    "fx_2 = [np.sin(np.deg2rad(x_i)) for x_i in x_2]\n",
    "fz_2 = evaluar_lagrange([z], x_2, fx_2)\n",
    "print(f'sen({z}) = {fz_2[-1]}')"
   ]
  },
  {
   "cell_type": "markdown",
   "id": "9c67a39b-c36a-4ccb-b961-2cdc7b492726",
   "metadata": {},
   "source": [
    "4. Dibuja la función $f (x) = sin (x)$ y los dos polinomios de Lagrange correspondientas a los nodos de interpolación del apartado anterior."
   ]
  },
  {
   "cell_type": "code",
   "execution_count": 11,
   "id": "5be3c9bf-4ed3-4abc-8ce7-cf34b2bd5877",
   "metadata": {},
   "outputs": [
    {
     "data": {
      "image/png": "[encoded data removed]",
      "text/plain": [
       "<Figure size 640x480 with 1 Axes>"
      ]
     },
     "metadata": {},
     "output_type": "display_data"
    }
   ],
   "source": [
    "def evaluar_lagrange(x, xp, fp):\n",
    "    polinomio = np.polyfit(xp, fp, len(xp) - 1)\n",
    "    result = np.polyval(polinomio, x)\n",
    "\n",
    "    return result\n",
    "\n",
    "x_1 = [70, 75]\n",
    "fx = fx_1 = [np.sin(np.deg2rad(x_i)) for x_i in x_1]\n",
    "x_2 = [65, 70, 75]\n",
    "fx_2 = [np.sin(np.deg2rad(x_i)) for x_i in x_2]\n",
    "\n",
    "z = np.linspace(65, 75, 100)\n",
    "\n",
    "plt.plot(z, evaluar_lagrange([z], x_1, fx_1)[-1], 'b', label=\"x=[70, 75]\")\n",
    "plt.plot(z, evaluar_lagrange([z], x_2, fx_2)[-1], 'r', label=\"x=[65, 70, 75]\")\n",
    "plt.plot(z, np.sin(np.deg2rad(z)), 'g', label=\"función real\")\n",
    "plt.legend()\n",
    "plt.show()"
   ]
  },
  {
   "cell_type": "code",
   "execution_count": null,
   "id": "1ca927a6-8282-4a70-984e-bdb244457b27",
   "metadata": {},
   "outputs": [],
   "source": []
  }
 ],
 "metadata": {
  "kernelspec": {
   "display_name": "matematicas",
   "language": "python",
   "name": "matematicas"
  },
  "language_info": {
   "codemirror_mode": {
    "name": "ipython",
    "version": 3
   },
   "file_extension": ".py",
   "mimetype": "text/x-python",
   "name": "python",
   "nbconvert_exporter": "python",
   "pygments_lexer": "ipython3",
   "version": "3.11.5"
  }
 },
 "nbformat": 4,
 "nbformat_minor": 5
}
